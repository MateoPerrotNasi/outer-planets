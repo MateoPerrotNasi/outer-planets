{
 "cells": [
  {
   "cell_type": "markdown",
   "source": [
    "# Outer Planets"
   ],
   "metadata": {
    "collapsed": false
   },
   "id": "b6eb8a51488acfd7"
  },
  {
   "cell_type": "markdown",
   "source": [
    "Outer Planets est un projet de recherche qui a pour but de prédire si une exoplanète est située dans une zone potentiellement habitable. Pour cela, nous allons utiliser un modèle de machine learning qui prend en entrée les caractéristiques de l'exoplanète et qui prédit si elle est située dans une zone habitable ou non. "
   ],
   "metadata": {
    "collapsed": false
   },
   "id": "947ede648a1423d7"
  },
  {
   "cell_type": "markdown",
   "source": [
    "# 1. Quelles données ?"
   ],
   "metadata": {
    "collapsed": false
   },
   "id": "681f07212d1165ae"
  },
  {
   "cell_type": "markdown",
   "source": [
    "Les données utilisées pour ce projet sont issues du site [Exoplanet Archive](https://exoplanetarchive.ipac.caltech.edu/). Ces données sont des caractéristiques d'exoplanètes découvertes par le télescope spatial Kepler. Les caractéristiques sont les suivantes :"
   ],
   "metadata": {
    "collapsed": false
   },
   "id": "cfe5683812ce906e"
  }
 ],
 "metadata": {
  "kernelspec": {
   "display_name": "Python 3",
   "language": "python",
   "name": "python3"
  },
  "language_info": {
   "codemirror_mode": {
    "name": "ipython",
    "version": 2
   },
   "file_extension": ".py",
   "mimetype": "text/x-python",
   "name": "python",
   "nbconvert_exporter": "python",
   "pygments_lexer": "ipython2",
   "version": "2.7.6"
  }
 },
 "nbformat": 4,
 "nbformat_minor": 5
}
